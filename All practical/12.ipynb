{
 "cells": [
  {
   "cell_type": "code",
   "execution_count": 1,
   "metadata": {},
   "outputs": [],
   "source": [
    "import pandas as pd\n",
    "import statsmodels.api as sm\n",
    "from statsmodels.formula.api import ols\n"
   ]
  },
  {
   "cell_type": "code",
   "execution_count": 2,
   "metadata": {},
   "outputs": [],
   "source": [
    "data = {\n",
    "    'Oven_Temperature': ['Low', 'Low', 'Low', 'Low', 'Low', 'Low', 'High', 'High', 'High', 'High', 'High', 'High'],\n",
    "    'Baking_Time': ['Short', 'Short', 'Short', 'Long', 'Long', 'Long', 'Short', 'Short', 'Short', 'Long', 'Long', 'Long'],\n",
    "    'Quality_Score': [6, 7, 6, 8, 7, 8, 5, 6, 5, 9, 8, 9]\n",
    "}\n"
   ]
  },
  {
   "cell_type": "code",
   "execution_count": 3,
   "metadata": {},
   "outputs": [
    {
     "data": {
      "text/html": [
       "<div>\n",
       "<style scoped>\n",
       "    .dataframe tbody tr th:only-of-type {\n",
       "        vertical-align: middle;\n",
       "    }\n",
       "\n",
       "    .dataframe tbody tr th {\n",
       "        vertical-align: top;\n",
       "    }\n",
       "\n",
       "    .dataframe thead th {\n",
       "        text-align: right;\n",
       "    }\n",
       "</style>\n",
       "<table border=\"1\" class=\"dataframe\">\n",
       "  <thead>\n",
       "    <tr style=\"text-align: right;\">\n",
       "      <th></th>\n",
       "      <th>Oven_Temperature</th>\n",
       "      <th>Baking_Time</th>\n",
       "      <th>Quality_Score</th>\n",
       "    </tr>\n",
       "  </thead>\n",
       "  <tbody>\n",
       "    <tr>\n",
       "      <th>0</th>\n",
       "      <td>Low</td>\n",
       "      <td>Short</td>\n",
       "      <td>6</td>\n",
       "    </tr>\n",
       "    <tr>\n",
       "      <th>1</th>\n",
       "      <td>Low</td>\n",
       "      <td>Short</td>\n",
       "      <td>7</td>\n",
       "    </tr>\n",
       "    <tr>\n",
       "      <th>2</th>\n",
       "      <td>Low</td>\n",
       "      <td>Short</td>\n",
       "      <td>6</td>\n",
       "    </tr>\n",
       "    <tr>\n",
       "      <th>3</th>\n",
       "      <td>Low</td>\n",
       "      <td>Long</td>\n",
       "      <td>8</td>\n",
       "    </tr>\n",
       "    <tr>\n",
       "      <th>4</th>\n",
       "      <td>Low</td>\n",
       "      <td>Long</td>\n",
       "      <td>7</td>\n",
       "    </tr>\n",
       "    <tr>\n",
       "      <th>5</th>\n",
       "      <td>Low</td>\n",
       "      <td>Long</td>\n",
       "      <td>8</td>\n",
       "    </tr>\n",
       "    <tr>\n",
       "      <th>6</th>\n",
       "      <td>High</td>\n",
       "      <td>Short</td>\n",
       "      <td>5</td>\n",
       "    </tr>\n",
       "    <tr>\n",
       "      <th>7</th>\n",
       "      <td>High</td>\n",
       "      <td>Short</td>\n",
       "      <td>6</td>\n",
       "    </tr>\n",
       "    <tr>\n",
       "      <th>8</th>\n",
       "      <td>High</td>\n",
       "      <td>Short</td>\n",
       "      <td>5</td>\n",
       "    </tr>\n",
       "    <tr>\n",
       "      <th>9</th>\n",
       "      <td>High</td>\n",
       "      <td>Long</td>\n",
       "      <td>9</td>\n",
       "    </tr>\n",
       "    <tr>\n",
       "      <th>10</th>\n",
       "      <td>High</td>\n",
       "      <td>Long</td>\n",
       "      <td>8</td>\n",
       "    </tr>\n",
       "    <tr>\n",
       "      <th>11</th>\n",
       "      <td>High</td>\n",
       "      <td>Long</td>\n",
       "      <td>9</td>\n",
       "    </tr>\n",
       "  </tbody>\n",
       "</table>\n",
       "</div>"
      ],
      "text/plain": [
       "   Oven_Temperature Baking_Time  Quality_Score\n",
       "0               Low       Short              6\n",
       "1               Low       Short              7\n",
       "2               Low       Short              6\n",
       "3               Low        Long              8\n",
       "4               Low        Long              7\n",
       "5               Low        Long              8\n",
       "6              High       Short              5\n",
       "7              High       Short              6\n",
       "8              High       Short              5\n",
       "9              High        Long              9\n",
       "10             High        Long              8\n",
       "11             High        Long              9"
      ]
     },
     "execution_count": 3,
     "metadata": {},
     "output_type": "execute_result"
    }
   ],
   "source": [
    "df = pd.DataFrame(data)\n",
    "df"
   ]
  },
  {
   "cell_type": "code",
   "execution_count": 4,
   "metadata": {},
   "outputs": [
    {
     "name": "stdout",
     "output_type": "stream",
     "text": [
      "                                     df        sum_sq       mean_sq  \\\n",
      "C(Oven_Temperature)                 1.0  1.262177e-29  1.262177e-29   \n",
      "C(Baking_Time)                      1.0  1.633333e+01  1.633333e+01   \n",
      "C(Oven_Temperature):C(Baking_Time)  1.0  3.000000e+00  3.000000e+00   \n",
      "Residual                            8.0  2.666667e+00  3.333333e-01   \n",
      "\n",
      "                                               F    PR(>F)  \n",
      "C(Oven_Temperature)                 3.786532e-29  1.000000  \n",
      "C(Baking_Time)                      4.900000e+01  0.000113  \n",
      "C(Oven_Temperature):C(Baking_Time)  9.000000e+00  0.017072  \n",
      "Residual                                     NaN       NaN  \n"
     ]
    }
   ],
   "source": [
    "model = ols('Quality_Score ~ C(Oven_Temperature) + C(Baking_Time) + C(Oven_Temperature): C(Baking_Time)',data = df).fit()\n",
    "anova_table = sm.stats.anova_lm(model, type=2)\n",
    "\n",
    "print(anova_table)"
   ]
  },
  {
   "cell_type": "code",
   "execution_count": 8,
   "metadata": {},
   "outputs": [
    {
     "name": "stderr",
     "output_type": "stream",
     "text": [
      "C:\\Users\\Jaykumar Pal\\AppData\\Local\\Temp\\ipykernel_5300\\3749058769.py:4: FutureWarning: \n",
      "\n",
      "The `ci` parameter is deprecated. Use `errorbar=None` for the same effect.\n",
      "\n",
      "  sns.pointplot(x = 'Oven_Temperature', y = 'Quality_Score', hue ='Baking_Time', data= df, ci = None)\n"
     ]
    },
    {
     "data": {
      "image/png": "[encoded data removed]",
      "text/plain": [
       "<Figure size 640x480 with 1 Axes>"
      ]
     },
     "metadata": {},
     "output_type": "display_data"
    }
   ],
   "source": [
    "import matplotlib.pyplot as plt\n",
    "import seaborn as sns\n",
    "\n",
    "sns.pointplot(x = 'Oven_Temperature', y = 'Quality_Score', hue ='Baking_Time', data= df, ci = None)\n",
    "plt.title('Interaction Plot:Oven Temperature vs Baking Time')\n",
    "plt.xlabel('Oven Temperature')\n",
    "plt.ylabel('Quality Score')\n",
    "plt.show()"
   ]
  },
  {
   "cell_type": "code",
   "execution_count": null,
   "metadata": {},
   "outputs": [],
   "source": []
  }
 ],
 "metadata": {
  "kernelspec": {
   "display_name": "Python 3",
   "language": "python",
   "name": "python3"
  },
  "language_info": {
   "codemirror_mode": {
    "name": "ipython",
    "version": 3
   },
   "file_extension": ".py",
   "mimetype": "text/x-python",
   "name": "python",
   "nbconvert_exporter": "python",
   "pygments_lexer": "ipython3",
   "version": "3.12.3"
  }
 },
 "nbformat": 4,
 "nbformat_minor": 2
}
