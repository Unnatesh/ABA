{
 "cells": [
  {
   "cell_type": "markdown",
   "id": "8566f6d1",
   "metadata": {},
   "source": [
    "### practical 7"
   ]
  },
  {
   "cell_type": "markdown",
   "id": "10a7c8f2",
   "metadata": {},
   "source": [
    "Objective:\n",
    "Conduct a survey and collect data from a sample population, ensuring proper sampling techniques.\n",
    "Use the Central Limit Theorem (CLT) to analyze the sampling distribution of a sample mean and estimate population parameters."
   ]
  },
  {
   "cell_type": "code",
   "execution_count": null,
   "id": "f40e0469",
   "metadata": {},
   "outputs": [],
   "source": []
  },
  {
   "cell_type": "code",
   "execution_count": 1,
   "id": "90a927df",
   "metadata": {},
   "outputs": [
    {
     "data": {
      "text/html": [
       "<div>\n",
       "<style scoped>\n",
       "    .dataframe tbody tr th:only-of-type {\n",
       "        vertical-align: middle;\n",
       "    }\n",
       "\n",
       "    .dataframe tbody tr th {\n",
       "        vertical-align: top;\n",
       "    }\n",
       "\n",
       "    .dataframe thead th {\n",
       "        text-align: right;\n",
       "    }\n",
       "</style>\n",
       "<table border=\"1\" class=\"dataframe\">\n",
       "  <thead>\n",
       "    <tr style=\"text-align: right;\">\n",
       "      <th></th>\n",
       "      <th>Transaction_Amount</th>\n",
       "    </tr>\n",
       "  </thead>\n",
       "  <tbody>\n",
       "    <tr>\n",
       "      <th>count</th>\n",
       "      <td>10000.000000</td>\n",
       "    </tr>\n",
       "    <tr>\n",
       "      <th>mean</th>\n",
       "      <td>488.749477</td>\n",
       "    </tr>\n",
       "    <tr>\n",
       "      <th>std</th>\n",
       "      <td>487.202353</td>\n",
       "    </tr>\n",
       "    <tr>\n",
       "      <th>min</th>\n",
       "      <td>0.005817</td>\n",
       "    </tr>\n",
       "    <tr>\n",
       "      <th>25%</th>\n",
       "      <td>141.399586</td>\n",
       "    </tr>\n",
       "    <tr>\n",
       "      <th>50%</th>\n",
       "      <td>339.157479</td>\n",
       "    </tr>\n",
       "    <tr>\n",
       "      <th>75%</th>\n",
       "      <td>673.549148</td>\n",
       "    </tr>\n",
       "    <tr>\n",
       "      <th>max</th>\n",
       "      <td>4086.222799</td>\n",
       "    </tr>\n",
       "  </tbody>\n",
       "</table>\n",
       "</div>"
      ],
      "text/plain": [
       "       Transaction_Amount\n",
       "count        10000.000000\n",
       "mean           488.749477\n",
       "std            487.202353\n",
       "min              0.005817\n",
       "25%            141.399586\n",
       "50%            339.157479\n",
       "75%            673.549148\n",
       "max           4086.222799"
      ]
     },
     "execution_count": 1,
     "metadata": {},
     "output_type": "execute_result"
    }
   ],
   "source": [
    "import numpy as np\n",
    "import pandas as pd\n",
    "import matplotlib.pyplot as plt\n",
    "import seaborn as sns\n",
    "\n",
    "# Simulate population data (customer transaction amounts in ₹)\n",
    "np.random.seed(42)\n",
    "population_data = np.random.exponential(scale=500, size=10000)  # Right-skewed distribution\n",
    "\n",
    "# Convert to DataFrame\n",
    "df = pd.DataFrame(population_data, columns=['Transaction_Amount'])\n",
    "\n",
    "# Display basic statistics\n",
    "df.describe()\n"
   ]
  },
  {
   "cell_type": "code",
   "execution_count": null,
   "id": "5301cbf4",
   "metadata": {},
   "outputs": [],
   "source": [
    "# Give your inference"
   ]
  },
  {
   "cell_type": "code",
   "execution_count": 2,
   "id": "a03ce255",
   "metadata": {},
   "outputs": [
    {
     "name": "stdout",
     "output_type": "stream",
     "text": [
      "Simple Random Sample Mean: 504.0749240985955\n",
      "Systematic Sample Mean: 409.44244407722266\n",
      "Stratified Sample Mean: 535.6017613258537\n"
     ]
    }
   ],
   "source": [
    "from scipy.stats import norm\n",
    "\n",
    "# Simple Random Sampling (SRS)\n",
    "sample_size = 50\n",
    "simple_random_sample = np.random.choice(population_data, sample_size, replace=False)\n",
    "\n",
    "# Systematic Sampling\n",
    "interval = len(population_data) // sample_size\n",
    "systematic_sample = population_data[::interval][:sample_size]\n",
    "\n",
    "# Stratified Sampling (Assume customers are grouped into low, mid, high spenders)\n",
    "df['Spending_Category'] = pd.qcut(df['Transaction_Amount'], q=3, labels=['Low', 'Medium', 'High'])\n",
    "strata_samples = df.groupby('Spending_Category', group_keys=False).apply(lambda x: x.sample(sample_size // 3))\n",
    "\n",
    "# Display samples\n",
    "print(\"Simple Random Sample Mean:\", np.mean(simple_random_sample))\n",
    "print(\"Systematic Sample Mean:\", np.mean(systematic_sample))\n",
    "print(\"Stratified Sample Mean:\", strata_samples['Transaction_Amount'].mean())\n"
   ]
  },
  {
   "cell_type": "code",
   "execution_count": null,
   "id": "9deec965",
   "metadata": {},
   "outputs": [],
   "source": [
    "# Give your inference"
   ]
  },
  {
   "cell_type": "code",
   "execution_count": null,
   "id": "5f5a7cf9",
   "metadata": {},
   "outputs": [],
   "source": []
  },
  {
   "cell_type": "code",
   "execution_count": 3,
   "id": "a8f122b6",
   "metadata": {},
   "outputs": [
    {
     "data": {
      "image/png": "[encoded data removed]",
      "text/plain": [
       "<Figure size 640x480 with 1 Axes>"
      ]
     },
     "metadata": {},
     "output_type": "display_data"
    }
   ],
   "source": [
    "sample_means = []  # Store means of samples\n",
    "num_samples = 1000  # Number of samples to take\n",
    "sample_size = 50  # Each sample size\n",
    "\n",
    "for _ in range(num_samples):\n",
    "    sample = np.random.choice(population_data, sample_size, replace=False)\n",
    "    sample_means.append(np.mean(sample))\n",
    "\n",
    "# Plot the sampling distribution\n",
    "sns.histplot(sample_means, bins=30, kde=True)\n",
    "plt.axvline(np.mean(population_data), color='red', linestyle='dashed', linewidth=2, label=\"Population Mean\")\n",
    "plt.legend()\n",
    "plt.title(\"Sampling Distribution of the Sample Mean\")\n",
    "plt.show()\n"
   ]
  },
  {
   "cell_type": "code",
   "execution_count": null,
   "id": "bc75a870",
   "metadata": {},
   "outputs": [],
   "source": [
    "# Give your inference"
   ]
  },
  {
   "cell_type": "code",
   "execution_count": 4,
   "id": "78c72af9",
   "metadata": {},
   "outputs": [
    {
     "name": "stdout",
     "output_type": "stream",
     "text": [
      "Estimated Population Mean: 487.27\n",
      "95% Confidence Interval: (468.37, 506.16)\n"
     ]
    }
   ],
   "source": [
    "import scipy.stats as stats\n",
    "\n",
    "# Sample mean and standard deviation\n",
    "sample_mean = np.mean(sample_means)\n",
    "sample_std = np.std(sample_means)\n",
    "\n",
    "# 95% Confidence Interval\n",
    "confidence_level = 0.95\n",
    "z_critical = norm.ppf((1 + confidence_level) / 2)  # Z-score for 95% CI\n",
    "margin_of_error = z_critical * (sample_std / np.sqrt(sample_size))\n",
    "\n",
    "lower_bound = sample_mean - margin_of_error\n",
    "upper_bound = sample_mean + margin_of_error\n",
    "\n",
    "print(f\"Estimated Population Mean: {sample_mean:.2f}\")\n",
    "print(f\"95% Confidence Interval: ({lower_bound:.2f}, {upper_bound:.2f})\")\n"
   ]
  },
  {
   "cell_type": "code",
   "execution_count": null,
   "id": "ab8b9896",
   "metadata": {},
   "outputs": [],
   "source": [
    "# Give your inference"
   ]
  }
 ],
 "metadata": {
  "kernelspec": {
   "display_name": "Python 3 (ipykernel)",
   "language": "python",
   "name": "python3"
  },
  "language_info": {
   "codemirror_mode": {
    "name": "ipython",
    "version": 3
   },
   "file_extension": ".py",
   "mimetype": "text/x-python",
   "name": "python",
   "nbconvert_exporter": "python",
   "pygments_lexer": "ipython3",
   "version": "3.9.13"
  }
 },
 "nbformat": 4,
 "nbformat_minor": 5
}
