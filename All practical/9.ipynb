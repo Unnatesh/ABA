{
 "cells": [
  {
   "cell_type": "markdown",
   "id": "192f66fb-6a35-429b-8575-b5b483101de3",
   "metadata": {},
   "source": [
    "## HYPOTHESIS TESTING "
   ]
  },
  {
   "cell_type": "code",
   "execution_count": 2,
   "id": "dd45241f-baa5-4778-a0ad-9f85a09e004a",
   "metadata": {},
   "outputs": [],
   "source": [
    "import numpy as np\n",
    "import scipy.stats as stats"
   ]
  },
  {
   "cell_type": "code",
   "execution_count": 4,
   "id": "8c61fc33-540c-4198-834c-bb7873b26e8a",
   "metadata": {},
   "outputs": [
    {
     "name": "stdout",
     "output_type": "stream",
     "text": [
      "T_Statistic: 2.8711\n",
      "p_v: 0.0184\n",
      "Reject the Null Hypothesis: The new strategy significantly increased sales!\n"
     ]
    }
   ],
   "source": [
    "#sample sales data after implementating new strategy (Monthly Sales in $)\n",
    "sales_data = np.array([48000, 52000, 51000, 55000, 49000, 53000, 58000, 54000, 52000, 56000])\n",
    "\n",
    "#define population mean (company's original claim)\n",
    "pm = 50000 #population mean\n",
    "\n",
    "#perform one-sample t-test\n",
    "t_s, p_v = stats.ttest_1samp(sales_data, pm) #t statistics and p value\n",
    "\n",
    "#display results \n",
    "print(f\"T_Statistic: {t_s:.4f}\")\n",
    "print(f\"p_v: {p_v:.4f}\")\n",
    "\n",
    "#significance level (a = 0.05)\n",
    "alpha = 0.05\n",
    "\n",
    "#interpretation\n",
    "if p_v < alpha:\n",
    "    print(\"Reject the Null Hypothesis: The new strategy significantly increased sales!\")\n",
    "else:\n",
    "    print(\"Fail to reject the null hypothesis: no signinficant improvement in sales.\")\n"
   ]
  },
  {
   "cell_type": "markdown",
   "id": "ad482c1a-bc50-499b-b6eb-b935fcee371f",
   "metadata": {},
   "source": [
    "## A/B TESTING "
   ]
  },
  {
   "cell_type": "code",
   "execution_count": 5,
   "id": "0d5a9611-23f1-4f73-b77a-fd562e456b86",
   "metadata": {},
   "outputs": [
    {
     "name": "stdout",
     "output_type": "stream",
     "text": [
      "Z-score: 2.6774\n",
      "p_value: 0.0037\n",
      "Reject the Null Hypothesis: The new design significantly improves conversion rates!\n"
     ]
    }
   ],
   "source": [
    "# A/B test data (Number f users who converted)\n",
    "\n",
    "conversion_A = 200 \n",
    "total_A = 1000\n",
    "\n",
    "conversion_B = 250\n",
    "total_B = 1000\n",
    "\n",
    "#conversion rates\n",
    "p_A = conversion_A / total_A\n",
    "p_B = conversion_B / total_B\n",
    "\n",
    "# Pooled Proportion\n",
    "p_pooled = (conversion_A + conversion_B) / (total_A + total_B)\n",
    "\n",
    "#Standard Error Calculation\n",
    "se = np.sqrt(p_pooled * (1 - p_pooled) * (1/total_A + 1/total_B))\n",
    "\n",
    "#compute Z-score\n",
    "z_score = (p_B - p_A) / se\n",
    "\n",
    "#compute p-value (one-tailed test)\n",
    "p_value = 1 - stats.norm.cdf(z_score)\n",
    "\n",
    "#display results\n",
    "print(f\"Z-score: {z_score:.4f}\")\n",
    "print(f\"p_value: {p_value:.4f}\")\n",
    "\n",
    "#significance level (a = 0.05)\n",
    "alpha = 0.05\n",
    "\n",
    "#interpretation \n",
    "if p_value < alpha:\n",
    "    print(\"Reject the Null Hypothesis: The new design significantly improves conversion rates!\")\n",
    "else:\n",
    "    print(\"Accept the Null Hypothesis: The new design is not improving conversion rates..\")"
   ]
  },
  {
   "cell_type": "code",
   "execution_count": 12,
   "id": "617090e8-8712-4a7d-a2aa-4d04b109b7be",
   "metadata": {},
   "outputs": [
    {
     "name": "stdout",
     "output_type": "stream",
     "text": [
      "[201 242 164 221 210 170 232 236 224 224 237 249 173 152 171 202 151 237\n",
      " 179 187 151 213 209 170 182 225 207 171 238 198]\n",
      ", [290 258 241 291 259 279 214 261 261 246 261 250 254 263 202 250 206 220\n",
      " 272 238 217 203 288 259 213 208 289 252 201 283]\n",
      ", [ 991 1010 1087 1098 1071  907 1074  934  980 1063  949 1003 1031  901\n",
      " 1033  953 1005  903  953 1090 1045  943 1061 1089  913  994  947  914\n",
      " 1099 1089]\n",
      ", [ 939  981 1010  952  923 1053 1087 1023  940 1056  914  944  964  988\n",
      "  970  908  987 1028 1035  962 1038  980 1035 1062 1062  932 1022  904\n",
      "  940  927]\n"
     ]
    }
   ],
   "source": [
    "import numpy as np\n",
    "import scipy.stats as stats\n",
    "\n",
    "# Example data for 30 days\n",
    "np.random.seed(42)\n",
    "conversion_A = np.random.randint(150, 250, size=30)  # Old model conversions\n",
    "conversion_B = np.random.randint(200, 300, size=30)  # Test model conversions\n",
    "total_A = np.random.randint(900, 1100, size=30)  # Total users for old model\n",
    "total_B = np.random.randint(900, 1100, size=30)  # Total users for test model\n",
    "\n",
    "print(f\"{conversion_A}\\n, {conversion_B}\\n, {total_A}\\n, {total_B}\")"
   ]
  },
  {
   "cell_type": "code",
   "execution_count": 13,
   "id": "aea2421e-2f2e-4d4a-b6cb-338248a359bd",
   "metadata": {},
   "outputs": [
    {
     "name": "stdout",
     "output_type": "stream",
     "text": [
      "6026\n",
      ", 7429\n",
      ", 30130\n",
      ", 29566\n"
     ]
    }
   ],
   "source": [
    "# Sum all conversions and total users\n",
    "sum_conversion_A = np.sum(conversion_A)\n",
    "sum_conversion_B = np.sum(conversion_B)\n",
    "sum_total_A = np.sum(total_A)\n",
    "sum_total_B = np.sum(total_B)\n",
    "\n",
    "print(f\"{sum_conversion_A}\\n, {sum_conversion_B}\\n, {sum_total_A}\\n, {sum_total_B}\")"
   ]
  },
  {
   "cell_type": "code",
   "execution_count": 14,
   "id": "3beb31ce-250a-458d-92de-f239abce5164",
   "metadata": {},
   "outputs": [
    {
     "name": "stdout",
     "output_type": "stream",
     "text": [
      "0.2 0.2512683487790029\n"
     ]
    }
   ],
   "source": [
    "\n",
    "# Compute overall conversion rates\n",
    "p_A = sum_conversion_A / sum_total_A\n",
    "p_B = sum_conversion_B / sum_total_B\n",
    "\n",
    "print(p_A, p_B)"
   ]
  },
  {
   "cell_type": "code",
   "execution_count": 15,
   "id": "4ec13343-deab-4b6a-9097-c4b3a0079338",
   "metadata": {},
   "outputs": [
    {
     "name": "stdout",
     "output_type": "stream",
     "text": [
      "0.22539198606271776\n"
     ]
    }
   ],
   "source": [
    "# Pooled proportion\n",
    "p_pooled = (sum_conversion_A + sum_conversion_B) / (sum_total_A + sum_total_B)\n",
    "\n",
    "print(p_pooled)"
   ]
  },
  {
   "cell_type": "code",
   "execution_count": 16,
   "id": "aebfa4c1-3cec-4f57-ab9c-344712d9b88e",
   "metadata": {},
   "outputs": [
    {
     "name": "stdout",
     "output_type": "stream",
     "text": [
      "0.0034204794993821126\n"
     ]
    }
   ],
   "source": [
    "# Standard Error\n",
    "se = np.sqrt(p_pooled * (1 - p_pooled) * (1/sum_total_A + 1/sum_total_B))\n",
    "\n",
    "print(se)"
   ]
  },
  {
   "cell_type": "code",
   "execution_count": 20,
   "id": "f3539b6b-394b-4ecb-93c3-fc2f9a2b03a5",
   "metadata": {},
   "outputs": [
    {
     "name": "stdout",
     "output_type": "stream",
     "text": [
      "Z-score: 14.9886\n",
      "P-value: 0.0000\n",
      "Final Decision: Reject the Null Hypothesis: The test model B is significantly better!\n"
     ]
    }
   ],
   "source": [
    "# Compute p-value (one-tailed test)\n",
    "p_value = 1 - stats.norm.cdf(z_score)\n",
    "\n",
    "# Significance level\n",
    "alpha = 0.03\n",
    "\n",
    "# Interpretation\n",
    "if p_value < alpha:\n",
    "    final_decision = \"Reject the Null Hypothesis: The test model B is significantly better!\"\n",
    "else:\n",
    "    final_decision = \"Accept the Null Hypothesis: No significant difference between A and B.\"\n",
    "\n",
    "# Display results\n",
    "print(f\"Z-score: {z_score:.4f}\")\n",
    "print(f\"P-value: {p_value:.4f}\")\n",
    "print(f\"Final Decision: {final_decision}\")"
   ]
  }
 ],
 "metadata": {
  "kernelspec": {
   "display_name": "Python 3 (ipykernel)",
   "language": "python",
   "name": "python3"
  },
  "language_info": {
   "codemirror_mode": {
    "name": "ipython",
    "version": 3
   },
   "file_extension": ".py",
   "mimetype": "text/x-python",
   "name": "python",
   "nbconvert_exporter": "python",
   "pygments_lexer": "ipython3",
   "version": "3.12.4"
  }
 },
 "nbformat": 4,
 "nbformat_minor": 5
}
